{
 "cells": [
  {
   "cell_type": "code",
   "execution_count": 1,
   "metadata": {},
   "outputs": [],
   "source": [
    "from pipelines.diffusion_models.evaluate import evaluate_separations "
   ]
  },
  {
   "cell_type": "code",
   "execution_count": 6,
   "metadata": {},
   "outputs": [
    {
     "name": "stderr",
     "output_type": "stream",
     "text": [
      "100%|██████████| 50/50 [02:09<00:00,  2.58s/it]\n"
     ]
    }
   ],
   "source": [
    "results_df = evaluate_separations(\n",
    "    separation_path=\"../musdb18-msdm-dirac\",\n",
    "    dataset_path=\"../data/musdb18_hq/test\",\n",
    "    separation_sr=44100\n",
    ")"
   ]
  },
  {
   "cell_type": "code",
   "execution_count": 9,
   "metadata": {},
   "outputs": [
    {
     "data": {
      "text/plain": [
       "bass           -3.239370e+01\n",
       "drums          -3.843129e+01\n",
       "mixture        -6.883232e+01\n",
       "other          -4.474449e+01\n",
       "start_sample    2.793156e+06\n",
       "end_sample      2.969556e+06\n",
       "dtype: float64"
      ]
     },
     "execution_count": 9,
     "metadata": {},
     "output_type": "execute_result"
    }
   ],
   "source": [
    "results_df.mean()"
   ]
  },
  {
   "cell_type": "code",
   "execution_count": 13,
   "metadata": {},
   "outputs": [
    {
     "name": "stdout",
     "output_type": "stream",
     "text": [
      "-46.10044916515508\n"
     ]
    }
   ],
   "source": [
    "import numpy as np\n",
    "\n",
    "print(np.mean(\n",
    "    [\n",
    "        results_df[\"bass\"].to_list(),\n",
    "        results_df[\"drums\"].to_list(),\n",
    "        results_df[\"mixture\"].to_list(),\n",
    "        results_df[\"other\"].to_list()\n",
    "    ]\n",
    "))"
   ]
  },
  {
   "cell_type": "code",
   "execution_count": 17,
   "metadata": {},
   "outputs": [
    {
     "name": "stdout",
     "output_type": "stream",
     "text": [
      "4.6075\n"
     ]
    }
   ],
   "source": [
    "mean = np.mean(np.array([4.47,3.24,3.84,6.88]))\n",
    "print(mean)"
   ]
  },
  {
   "cell_type": "code",
   "execution_count": null,
   "metadata": {},
   "outputs": [],
   "source": []
  }
 ],
 "metadata": {
  "kernelspec": {
   "display_name": "master",
   "language": "python",
   "name": "python3"
  },
  "language_info": {
   "codemirror_mode": {
    "name": "ipython",
    "version": 3
   },
   "file_extension": ".py",
   "mimetype": "text/x-python",
   "name": "python",
   "nbconvert_exporter": "python",
   "pygments_lexer": "ipython3",
   "version": "3.8.20"
  }
 },
 "nbformat": 4,
 "nbformat_minor": 2
}
